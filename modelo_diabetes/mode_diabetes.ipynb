{
 "cells": [
  {
   "cell_type": "code",
   "execution_count": 2,
   "id": "0334b1c4",
   "metadata": {},
   "outputs": [],
   "source": [
    "import pandas as pd\n",
    "import matplotlib.pyplot as plt\n",
    "import seaborn as sns"
   ]
  },
  {
   "cell_type": "code",
   "execution_count": 4,
   "id": "11dd0759",
   "metadata": {},
   "outputs": [],
   "source": [
    "# Carregar arquivo para um dataframe\n",
    "\n",
    "df_exames = pd.read_csv('./datasets/1698696961761-attachment.csv')"
   ]
  },
  {
   "cell_type": "code",
   "execution_count": 5,
   "id": "75bf2de1",
   "metadata": {},
   "outputs": [
    {
     "data": {
      "text/html": [
       "<div>\n",
       "<style scoped>\n",
       "    .dataframe tbody tr th:only-of-type {\n",
       "        vertical-align: middle;\n",
       "    }\n",
       "\n",
       "    .dataframe tbody tr th {\n",
       "        vertical-align: top;\n",
       "    }\n",
       "\n",
       "    .dataframe thead th {\n",
       "        text-align: right;\n",
       "    }\n",
       "</style>\n",
       "<table border=\"1\" class=\"dataframe\">\n",
       "  <thead>\n",
       "    <tr style=\"text-align: right;\">\n",
       "      <th></th>\n",
       "      <th>id_paciente</th>\n",
       "      <th>genero</th>\n",
       "      <th>idade</th>\n",
       "      <th>peso</th>\n",
       "      <th>altura</th>\n",
       "      <th>resultado</th>\n",
       "    </tr>\n",
       "  </thead>\n",
       "  <tbody>\n",
       "    <tr>\n",
       "      <th>0</th>\n",
       "      <td>1</td>\n",
       "      <td>M</td>\n",
       "      <td>46</td>\n",
       "      <td>83</td>\n",
       "      <td>165</td>\n",
       "      <td>98</td>\n",
       "    </tr>\n",
       "    <tr>\n",
       "      <th>1</th>\n",
       "      <td>2</td>\n",
       "      <td>F</td>\n",
       "      <td>23</td>\n",
       "      <td>83</td>\n",
       "      <td>164</td>\n",
       "      <td>82</td>\n",
       "    </tr>\n",
       "    <tr>\n",
       "      <th>2</th>\n",
       "      <td>3</td>\n",
       "      <td>M</td>\n",
       "      <td>39</td>\n",
       "      <td>71</td>\n",
       "      <td>154</td>\n",
       "      <td>93</td>\n",
       "    </tr>\n",
       "    <tr>\n",
       "      <th>3</th>\n",
       "      <td>4</td>\n",
       "      <td>F</td>\n",
       "      <td>26</td>\n",
       "      <td>103</td>\n",
       "      <td>165</td>\n",
       "      <td>95</td>\n",
       "    </tr>\n",
       "    <tr>\n",
       "      <th>4</th>\n",
       "      <td>5</td>\n",
       "      <td>M</td>\n",
       "      <td>27</td>\n",
       "      <td>55</td>\n",
       "      <td>176</td>\n",
       "      <td>100</td>\n",
       "    </tr>\n",
       "  </tbody>\n",
       "</table>\n",
       "</div>"
      ],
      "text/plain": [
       "   id_paciente genero  idade  peso  altura  resultado\n",
       "0            1      M     46    83     165         98\n",
       "1            2      F     23    83     164         82\n",
       "2            3      M     39    71     154         93\n",
       "3            4      F     26   103     165         95\n",
       "4            5      M     27    55     176        100"
      ]
     },
     "execution_count": 5,
     "metadata": {},
     "output_type": "execute_result"
    }
   ],
   "source": [
    "df_exames.head(5)"
   ]
  },
  {
   "cell_type": "code",
   "execution_count": 6,
   "id": "3b63c035",
   "metadata": {},
   "outputs": [
    {
     "data": {
      "text/html": [
       "<div>\n",
       "<style scoped>\n",
       "    .dataframe tbody tr th:only-of-type {\n",
       "        vertical-align: middle;\n",
       "    }\n",
       "\n",
       "    .dataframe tbody tr th {\n",
       "        vertical-align: top;\n",
       "    }\n",
       "\n",
       "    .dataframe thead th {\n",
       "        text-align: right;\n",
       "    }\n",
       "</style>\n",
       "<table border=\"1\" class=\"dataframe\">\n",
       "  <thead>\n",
       "    <tr style=\"text-align: right;\">\n",
       "      <th></th>\n",
       "      <th>id_paciente</th>\n",
       "      <th>genero</th>\n",
       "      <th>idade</th>\n",
       "      <th>peso</th>\n",
       "      <th>altura</th>\n",
       "      <th>resultado</th>\n",
       "    </tr>\n",
       "  </thead>\n",
       "  <tbody>\n",
       "    <tr>\n",
       "      <th>95</th>\n",
       "      <td>96</td>\n",
       "      <td>F</td>\n",
       "      <td>52</td>\n",
       "      <td>96</td>\n",
       "      <td>183</td>\n",
       "      <td>89</td>\n",
       "    </tr>\n",
       "    <tr>\n",
       "      <th>96</th>\n",
       "      <td>97</td>\n",
       "      <td>F</td>\n",
       "      <td>68</td>\n",
       "      <td>108</td>\n",
       "      <td>169</td>\n",
       "      <td>105</td>\n",
       "    </tr>\n",
       "    <tr>\n",
       "      <th>97</th>\n",
       "      <td>98</td>\n",
       "      <td>M</td>\n",
       "      <td>21</td>\n",
       "      <td>95</td>\n",
       "      <td>154</td>\n",
       "      <td>125</td>\n",
       "    </tr>\n",
       "    <tr>\n",
       "      <th>98</th>\n",
       "      <td>99</td>\n",
       "      <td>M</td>\n",
       "      <td>41</td>\n",
       "      <td>109</td>\n",
       "      <td>173</td>\n",
       "      <td>128</td>\n",
       "    </tr>\n",
       "    <tr>\n",
       "      <th>99</th>\n",
       "      <td>100</td>\n",
       "      <td>F</td>\n",
       "      <td>28</td>\n",
       "      <td>86</td>\n",
       "      <td>191</td>\n",
       "      <td>95</td>\n",
       "    </tr>\n",
       "  </tbody>\n",
       "</table>\n",
       "</div>"
      ],
      "text/plain": [
       "    id_paciente genero  idade  peso  altura  resultado\n",
       "95           96      F     52    96     183         89\n",
       "96           97      F     68   108     169        105\n",
       "97           98      M     21    95     154        125\n",
       "98           99      M     41   109     173        128\n",
       "99          100      F     28    86     191         95"
      ]
     },
     "execution_count": 6,
     "metadata": {},
     "output_type": "execute_result"
    }
   ],
   "source": [
    "df_exames.tail(5)\n"
   ]
  },
  {
   "cell_type": "code",
   "execution_count": 7,
   "id": "78a656d9",
   "metadata": {},
   "outputs": [
    {
     "name": "stdout",
     "output_type": "stream",
     "text": [
      "<class 'pandas.core.frame.DataFrame'>\n",
      "RangeIndex: 100 entries, 0 to 99\n",
      "Data columns (total 6 columns):\n",
      " #   Column       Non-Null Count  Dtype \n",
      "---  ------       --------------  ----- \n",
      " 0   id_paciente  100 non-null    int64 \n",
      " 1   genero       100 non-null    object\n",
      " 2   idade        100 non-null    int64 \n",
      " 3   peso         100 non-null    int64 \n",
      " 4   altura       100 non-null    int64 \n",
      " 5   resultado    100 non-null    int64 \n",
      "dtypes: int64(5), object(1)\n",
      "memory usage: 4.8+ KB\n"
     ]
    }
   ],
   "source": [
    "df_exames.info()"
   ]
  },
  {
   "cell_type": "code",
   "execution_count": 9,
   "id": "cfc99a8e",
   "metadata": {},
   "outputs": [],
   "source": [
    "# remover coluna id_paciente\n",
    "\n",
    "df_exames.drop(columns=['id_paciente'], axis=1, inplace=True)"
   ]
  },
  {
   "cell_type": "code",
   "execution_count": 10,
   "id": "2550f172",
   "metadata": {},
   "outputs": [
    {
     "name": "stdout",
     "output_type": "stream",
     "text": [
      "<class 'pandas.core.frame.DataFrame'>\n",
      "RangeIndex: 100 entries, 0 to 99\n",
      "Data columns (total 5 columns):\n",
      " #   Column     Non-Null Count  Dtype \n",
      "---  ------     --------------  ----- \n",
      " 0   genero     100 non-null    object\n",
      " 1   idade      100 non-null    int64 \n",
      " 2   peso       100 non-null    int64 \n",
      " 3   altura     100 non-null    int64 \n",
      " 4   resultado  100 non-null    int64 \n",
      "dtypes: int64(4), object(1)\n",
      "memory usage: 4.0+ KB\n"
     ]
    }
   ],
   "source": [
    "df_exames.info()"
   ]
  },
  {
   "cell_type": "code",
   "execution_count": null,
   "id": "65a49f8e",
   "metadata": {},
   "outputs": [],
   "source": []
  }
 ],
 "metadata": {
  "kernelspec": {
   "display_name": "modelo_diabetes-qlnfXek9",
   "language": "python",
   "name": "python3"
  },
  "language_info": {
   "codemirror_mode": {
    "name": "ipython",
    "version": 3
   },
   "file_extension": ".py",
   "mimetype": "text/x-python",
   "name": "python",
   "nbconvert_exporter": "python",
   "pygments_lexer": "ipython3",
   "version": "3.11.4"
  }
 },
 "nbformat": 4,
 "nbformat_minor": 5
}
