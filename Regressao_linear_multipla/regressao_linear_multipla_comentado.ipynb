{
 "cells": [
  {
   "cell_type": "markdown",
   "id": "053d6bc4",
   "metadata": {},
   "source": [
    "\n",
    "# Regressão Linear Múltipla com Scikit-Learn\n",
    "\n",
    "Este notebook mostra como implementar uma regressão linear múltipla em Python usando a biblioteca `scikit-learn`.\n",
    "Vamos usar um conjunto de dados fictício contendo informações sobre o preço de casas com base em seus atributos.\n",
    "\n",
    "---\n"
   ]
  },
  {
   "cell_type": "markdown",
   "id": "121c6d90",
   "metadata": {},
   "source": [
    "\n",
    "## 1. Importação de bibliotecas\n",
    "\n",
    "Importamos as bibliotecas necessárias para análise e visualização dos dados:\n",
    "- `numpy` para manipulação de arrays numéricos\n",
    "- `matplotlib.pyplot` para criação de gráficos\n",
    "- `pandas` para manipulação de dados em formato de tabela\n",
    "- `sklearn.model_selection.train_test_split` para dividir os dados em treino e teste\n",
    "- `sklearn.linear_model.LinearRegression` para criar o modelo de regressão\n",
    "- `sklearn.metrics` para avaliação do modelo\n"
   ]
  },
  {
   "cell_type": "code",
   "execution_count": null,
   "id": "ddcd5e85",
   "metadata": {},
   "outputs": [],
   "source": [
    "\n",
    "import numpy as np\n",
    "import matplotlib.pyplot as plt\n",
    "import pandas as pd\n",
    "\n",
    "from sklearn.model_selection import train_test_split\n",
    "from sklearn.linear_model import LinearRegression\n",
    "from sklearn.metrics import mean_absolute_error, mean_squared_error, r2_score\n"
   ]
  },
  {
   "cell_type": "markdown",
   "id": "b784dfd9",
   "metadata": {},
   "source": [
    "\n",
    "## 2. Criação do dataset\n",
    "\n",
    "Criamos um dataset fictício com 3 variáveis independentes (x1, x2 e x3) e uma variável dependente (y).\n",
    "Essas variáveis representam características hipotéticas de uma casa, como tamanho, número de quartos, idade, etc.\n"
   ]
  },
  {
   "cell_type": "code",
   "execution_count": null,
   "id": "2be3f26a",
   "metadata": {},
   "outputs": [],
   "source": [
    "\n",
    "# Criando variáveis independentes (features)\n",
    "x1 = np.array([1500, 1800, 2400, 3000, 3500])\n",
    "x2 = np.array([3, 4, 3, 5, 4])\n",
    "x3 = np.array([10, 15, 20, 8, 12])\n",
    "\n",
    "# Variável dependente (target) - preço da casa, por exemplo\n",
    "y = np.array([400000, 500000, 600000, 650000, 700000])\n",
    "\n",
    "# Juntando as variáveis independentes em uma única matriz\n",
    "X = np.column_stack((x1, x2, x3))\n"
   ]
  },
  {
   "cell_type": "markdown",
   "id": "0d178486",
   "metadata": {},
   "source": [
    "\n",
    "## 3. Divisão dos dados em treino e teste\n",
    "\n",
    "Separar os dados entre conjunto de treino e teste ajuda a avaliar o desempenho do modelo em dados que ele nunca viu antes.\n",
    "\n",
    "- `test_size=0.2` indica que 20% dos dados serão usados para teste.\n",
    "- `random_state=42` garante que a divisão seja reproduzível.\n"
   ]
  },
  {
   "cell_type": "code",
   "execution_count": null,
   "id": "a53f3983",
   "metadata": {},
   "outputs": [],
   "source": [
    "\n",
    "X_train, X_test, y_train, y_test = train_test_split(X, y, test_size=0.2, random_state=42)\n"
   ]
  },
  {
   "cell_type": "markdown",
   "id": "fae5c2a7",
   "metadata": {},
   "source": [
    "\n",
    "## 4. Treinamento do modelo de Regressão Linear\n",
    "\n",
    "Instanciamos e treinamos o modelo `LinearRegression` com os dados de treino.\n"
   ]
  },
  {
   "cell_type": "code",
   "execution_count": null,
   "id": "15f4557b",
   "metadata": {},
   "outputs": [],
   "source": [
    "\n",
    "# Instanciando o modelo\n",
    "model = LinearRegression()\n",
    "\n",
    "# Treinando o modelo\n",
    "model.fit(X_train, y_train)\n"
   ]
  },
  {
   "cell_type": "markdown",
   "id": "52751519",
   "metadata": {},
   "source": [
    "\n",
    "## 5. Previsão com os dados de teste\n",
    "\n",
    "Usamos o modelo treinado para prever os valores de `y` com base em `X_test`.\n"
   ]
  },
  {
   "cell_type": "code",
   "execution_count": null,
   "id": "2ca03493",
   "metadata": {},
   "outputs": [],
   "source": [
    "\n",
    "# Fazendo previsões\n",
    "y_pred = model.predict(X_test)\n"
   ]
  },
  {
   "cell_type": "markdown",
   "id": "6e205cd8",
   "metadata": {},
   "source": [
    "\n",
    "## 6. Avaliação do Modelo\n",
    "\n",
    "Avaliamos o desempenho do modelo usando as métricas:\n",
    "- **MAE (Erro absoluto médio)**\n",
    "- **MSE (Erro quadrático médio)**\n",
    "- **RMSE (Raiz do erro quadrático médio)**\n",
    "- **R² (Coeficiente de Determinação)**\n",
    "\n",
    "Essas métricas ajudam a entender o quão próximo o modelo chegou dos valores reais.\n"
   ]
  },
  {
   "cell_type": "code",
   "execution_count": null,
   "id": "3413cb6a",
   "metadata": {},
   "outputs": [],
   "source": [
    "\n",
    "mae = mean_absolute_error(y_test, y_pred)\n",
    "mse = mean_squared_error(y_test, y_pred)\n",
    "rmse = np.sqrt(mse)\n",
    "r2 = r2_score(y_test, y_pred)\n",
    "\n",
    "print(\"MAE:\", mae)\n",
    "print(\"MSE:\", mse)\n",
    "print(\"RMSE:\", rmse)\n",
    "print(\"R²:\", r2)\n"
   ]
  },
  {
   "cell_type": "markdown",
   "id": "402562dd",
   "metadata": {},
   "source": [
    "\n",
    "## 7. Coeficientes e Intercepto\n",
    "\n",
    "Verificamos os coeficientes (pesos) aprendidos pelo modelo para cada variável independente e o valor do intercepto.\n"
   ]
  },
  {
   "cell_type": "code",
   "execution_count": null,
   "id": "80bdc338",
   "metadata": {},
   "outputs": [],
   "source": [
    "\n",
    "print(\"Coeficientes (pesos):\", model.coef_)\n",
    "print(\"Intercepto:\", model.intercept_)\n"
   ]
  }
 ],
 "metadata": {},
 "nbformat": 4,
 "nbformat_minor": 5
}