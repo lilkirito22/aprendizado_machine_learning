{
 "cells": [
  {
   "cell_type": "code",
   "execution_count": 1,
   "id": "5d9ebd6d",
   "metadata": {},
   "outputs": [],
   "source": [
    "import pandas as pd \n",
    "import seaborn as sns \n",
    "import matplotlib as plt"
   ]
  },
  {
   "cell_type": "code",
   "execution_count": 2,
   "id": "717c43bc",
   "metadata": {},
   "outputs": [],
   "source": [
    "# carregar o arquivo\n",
    "df_coleterol = pd.read_csv('./datasets/1701111759794-attachment.csv')"
   ]
  },
  {
   "cell_type": "code",
   "execution_count": 3,
   "id": "82c25e8c",
   "metadata": {},
   "outputs": [
    {
     "name": "stdout",
     "output_type": "stream",
     "text": [
      "<class 'pandas.core.frame.DataFrame'>\n",
      "RangeIndex: 1000 entries, 0 to 999\n",
      "Data columns (total 8 columns):\n",
      " #   Column              Non-Null Count  Dtype  \n",
      "---  ------              --------------  -----  \n",
      " 0   Id                  1000 non-null   int64  \n",
      " 1   Grupo Sanguíneo     996 non-null    object \n",
      " 2   Fumante             997 non-null    object \n",
      " 3   Nível de Atividade  996 non-null    object \n",
      " 4   Idade               997 non-null    float64\n",
      " 5   Peso                997 non-null    float64\n",
      " 6   Altura              997 non-null    float64\n",
      " 7   Colesterol          1000 non-null   float64\n",
      "dtypes: float64(4), int64(1), object(3)\n",
      "memory usage: 62.6+ KB\n"
     ]
    }
   ],
   "source": [
    "df_coleterol.info()"
   ]
  },
  {
   "cell_type": "code",
   "execution_count": 4,
   "id": "1f8ed46a",
   "metadata": {},
   "outputs": [],
   "source": [
    "#Remover coluna \"Id\"\n",
    "df_coleterol.drop( columns=['Id'], axis=1, inplace=True)"
   ]
  },
  {
   "cell_type": "code",
   "execution_count": 7,
   "id": "74be6e73",
   "metadata": {},
   "outputs": [
    {
     "name": "stdout",
     "output_type": "stream",
     "text": [
      "<class 'pandas.core.frame.DataFrame'>\n",
      "RangeIndex: 1000 entries, 0 to 999\n",
      "Data columns (total 7 columns):\n",
      " #   Column                  Non-Null Count  Dtype  \n",
      "---  ------                  --------------  -----  \n",
      " 0   grupo_sanguineo         996 non-null    object \n",
      " 1   fumante                 997 non-null    object \n",
      " 2   nivel_atividade_fisica  996 non-null    object \n",
      " 3   idade                   997 non-null    float64\n",
      " 4   peso                    997 non-null    float64\n",
      " 5   altura                  997 non-null    float64\n",
      " 6   nivel_colesterol        1000 non-null   float64\n",
      "dtypes: float64(4), object(3)\n",
      "memory usage: 54.8+ KB\n"
     ]
    }
   ],
   "source": [
    "df_coleterol.info()"
   ]
  },
  {
   "cell_type": "code",
   "execution_count": 6,
   "id": "d67e2b88",
   "metadata": {},
   "outputs": [],
   "source": [
    "#Renomear as colunas\n",
    "df_coleterol.columns = [\n",
    "  'grupo_sanguineo',\n",
    "  'fumante',\n",
    "  'nivel_atividade_fisica',\n",
    "  'idade',\n",
    "  'peso',\n",
    "  'altura',\n",
    "  'nivel_colesterol'\n",
    "]"
   ]
  },
  {
   "cell_type": "code",
   "execution_count": 8,
   "id": "cab579d9",
   "metadata": {},
   "outputs": [],
   "source": [
    "# Copiar DF para Df EDA\n",
    "\n",
    "df_coleterol_eda = df_coleterol.copy()"
   ]
  },
  {
   "cell_type": "code",
   "execution_count": 9,
   "id": "886412d5",
   "metadata": {},
   "outputs": [],
   "source": [
    "# copiar DF ´para DF Bucketing\n",
    "df_coleterol_bucketing = df_coleterol.copy()"
   ]
  },
  {
   "cell_type": "markdown",
   "id": "778c5a5c",
   "metadata": {},
   "source": [
    "### EDA"
   ]
  },
  {
   "cell_type": "code",
   "execution_count": 10,
   "id": "0fcec3bd",
   "metadata": {},
   "outputs": [
    {
     "data": {
      "application/vnd.microsoft.datawrangler.viewer.v0+json": {
       "columns": [
        {
         "name": "index",
         "rawType": "int64",
         "type": "integer"
        },
        {
         "name": "grupo_sanguineo",
         "rawType": "object",
         "type": "string"
        },
        {
         "name": "fumante",
         "rawType": "object",
         "type": "string"
        },
        {
         "name": "nivel_atividade_fisica",
         "rawType": "object",
         "type": "string"
        },
        {
         "name": "idade",
         "rawType": "float64",
         "type": "float"
        },
        {
         "name": "peso",
         "rawType": "float64",
         "type": "float"
        },
        {
         "name": "altura",
         "rawType": "float64",
         "type": "float"
        },
        {
         "name": "nivel_colesterol",
         "rawType": "float64",
         "type": "float"
        }
       ],
       "conversionMethod": "pd.DataFrame",
       "ref": "36cca901-9f27-4170-80cd-99177f19958d",
       "rows": [
        [
         "0",
         "B",
         "Sim",
         "Baixo",
         "33.0",
         "85.1",
         "186.0",
         "199.63"
        ],
        [
         "1",
         "A",
         "Não",
         "Moderado",
         "68.0",
         "105.0",
         "184.0",
         "236.98"
        ],
        [
         "2",
         "O",
         "Não",
         "Alto",
         "25.0",
         "64.8",
         "180.0",
         "161.79"
        ],
        [
         "3",
         "A",
         "Não",
         "Alto",
         "43.0",
         "120.2",
         "167.0",
         "336.24"
        ],
        [
         "4",
         "AB",
         "Não",
         "Baixo",
         "79.0",
         "88.5",
         "175.0",
         "226.23"
        ]
       ],
       "shape": {
        "columns": 7,
        "rows": 5
       }
      },
      "text/html": [
       "<div>\n",
       "<style scoped>\n",
       "    .dataframe tbody tr th:only-of-type {\n",
       "        vertical-align: middle;\n",
       "    }\n",
       "\n",
       "    .dataframe tbody tr th {\n",
       "        vertical-align: top;\n",
       "    }\n",
       "\n",
       "    .dataframe thead th {\n",
       "        text-align: right;\n",
       "    }\n",
       "</style>\n",
       "<table border=\"1\" class=\"dataframe\">\n",
       "  <thead>\n",
       "    <tr style=\"text-align: right;\">\n",
       "      <th></th>\n",
       "      <th>grupo_sanguineo</th>\n",
       "      <th>fumante</th>\n",
       "      <th>nivel_atividade_fisica</th>\n",
       "      <th>idade</th>\n",
       "      <th>peso</th>\n",
       "      <th>altura</th>\n",
       "      <th>nivel_colesterol</th>\n",
       "    </tr>\n",
       "  </thead>\n",
       "  <tbody>\n",
       "    <tr>\n",
       "      <th>0</th>\n",
       "      <td>B</td>\n",
       "      <td>Sim</td>\n",
       "      <td>Baixo</td>\n",
       "      <td>33.0</td>\n",
       "      <td>85.1</td>\n",
       "      <td>186.0</td>\n",
       "      <td>199.63</td>\n",
       "    </tr>\n",
       "    <tr>\n",
       "      <th>1</th>\n",
       "      <td>A</td>\n",
       "      <td>Não</td>\n",
       "      <td>Moderado</td>\n",
       "      <td>68.0</td>\n",
       "      <td>105.0</td>\n",
       "      <td>184.0</td>\n",
       "      <td>236.98</td>\n",
       "    </tr>\n",
       "    <tr>\n",
       "      <th>2</th>\n",
       "      <td>O</td>\n",
       "      <td>Não</td>\n",
       "      <td>Alto</td>\n",
       "      <td>25.0</td>\n",
       "      <td>64.8</td>\n",
       "      <td>180.0</td>\n",
       "      <td>161.79</td>\n",
       "    </tr>\n",
       "    <tr>\n",
       "      <th>3</th>\n",
       "      <td>A</td>\n",
       "      <td>Não</td>\n",
       "      <td>Alto</td>\n",
       "      <td>43.0</td>\n",
       "      <td>120.2</td>\n",
       "      <td>167.0</td>\n",
       "      <td>336.24</td>\n",
       "    </tr>\n",
       "    <tr>\n",
       "      <th>4</th>\n",
       "      <td>AB</td>\n",
       "      <td>Não</td>\n",
       "      <td>Baixo</td>\n",
       "      <td>79.0</td>\n",
       "      <td>88.5</td>\n",
       "      <td>175.0</td>\n",
       "      <td>226.23</td>\n",
       "    </tr>\n",
       "  </tbody>\n",
       "</table>\n",
       "</div>"
      ],
      "text/plain": [
       "  grupo_sanguineo fumante nivel_atividade_fisica  idade   peso  altura  \\\n",
       "0               B     Sim                  Baixo   33.0   85.1   186.0   \n",
       "1               A     Não               Moderado   68.0  105.0   184.0   \n",
       "2               O     Não                   Alto   25.0   64.8   180.0   \n",
       "3               A     Não                   Alto   43.0  120.2   167.0   \n",
       "4              AB     Não                  Baixo   79.0   88.5   175.0   \n",
       "\n",
       "   nivel_colesterol  \n",
       "0            199.63  \n",
       "1            236.98  \n",
       "2            161.79  \n",
       "3            336.24  \n",
       "4            226.23  "
      ]
     },
     "execution_count": 10,
     "metadata": {},
     "output_type": "execute_result"
    }
   ],
   "source": [
    "# Visualizar os dados\n",
    "df_coleterol_eda.head(5)"
   ]
  },
  {
   "cell_type": "code",
   "execution_count": 12,
   "id": "87565025",
   "metadata": {},
   "outputs": [
    {
     "data": {
      "text/plain": [
       "array(['B', 'A', 'O', 'AB', nan], dtype=object)"
      ]
     },
     "execution_count": 12,
     "metadata": {},
     "output_type": "execute_result"
    }
   ],
   "source": [
    "df_coleterol_eda.grupo_sanguineo.unique()"
   ]
  },
  {
   "cell_type": "code",
   "execution_count": null,
   "id": "8b5d476f",
   "metadata": {},
   "outputs": [],
   "source": []
  }
 ],
 "metadata": {
  "kernelspec": {
   "display_name": "Regressao_linear_multipla-bsl169_y",
   "language": "python",
   "name": "python3"
  },
  "language_info": {
   "codemirror_mode": {
    "name": "ipython",
    "version": 3
   },
   "file_extension": ".py",
   "mimetype": "text/x-python",
   "name": "python",
   "nbconvert_exporter": "python",
   "pygments_lexer": "ipython3",
   "version": "3.11.4"
  }
 },
 "nbformat": 4,
 "nbformat_minor": 5
}
